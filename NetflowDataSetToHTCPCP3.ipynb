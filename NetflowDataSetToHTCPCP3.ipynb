{
 "cells": [
  {
   "cell_type": "code",
   "execution_count": 2,
   "metadata": {},
   "outputs": [],
   "source": [
    "import pandas as pd\n",
    "import numpy as np\n",
    "import datetime\n",
    "import matplotlib.pyplot as plt\n",
    "import math"
   ]
  },
  {
   "cell_type": "code",
   "execution_count": 3,
   "metadata": {},
   "outputs": [],
   "source": [
    "# CTU-13 dataset \n",
    "# https://mcfp.felk.cvut.cz/publicDatasets/CTU-Malware-Capture-Botnet-42/\n",
    "dataLoc = \"~/Downloads/capture20110810.binetflow.txt\"\n",
    "dataPD = pd.read_csv(dataLoc)"
   ]
  },
  {
   "cell_type": "code",
   "execution_count": null,
   "metadata": {},
   "outputs": [],
   "source": [
    "# Columns we need (pipe_separated):\n",
    "#     floor(unix_time/3600)*3600\n",
    "#     num_lines\n",
    "#     source_i\n",
    "#     dest_ip\n",
    "#     comma separated list of source ports\n",
    "#     comma separated list of dst ports\n",
    "#     comma separated list of protocols (uppercase)\n",
    "#     sum(packets)\n",
    "#     sum(bytes)\n",
    "#\n",
    "# Per source_ip, dest_ip, floor(unix_time/3600)"
   ]
  },
  {
   "cell_type": "code",
   "execution_count": 6,
   "metadata": {},
   "outputs": [
    {
     "data": {
      "text/html": [
       "<div>\n",
       "<style scoped>\n",
       "    .dataframe tbody tr th:only-of-type {\n",
       "        vertical-align: middle;\n",
       "    }\n",
       "\n",
       "    .dataframe tbody tr th {\n",
       "        vertical-align: top;\n",
       "    }\n",
       "\n",
       "    .dataframe thead th {\n",
       "        text-align: right;\n",
       "    }\n",
       "</style>\n",
       "<table border=\"1\" class=\"dataframe\">\n",
       "  <thead>\n",
       "    <tr style=\"text-align: right;\">\n",
       "      <th></th>\n",
       "      <th>StartTime</th>\n",
       "      <th>Dur</th>\n",
       "      <th>Proto</th>\n",
       "      <th>SrcAddr</th>\n",
       "      <th>Sport</th>\n",
       "      <th>Dir</th>\n",
       "      <th>DstAddr</th>\n",
       "      <th>Dport</th>\n",
       "      <th>State</th>\n",
       "      <th>sTos</th>\n",
       "      <th>dTos</th>\n",
       "      <th>TotPkts</th>\n",
       "      <th>TotBytes</th>\n",
       "      <th>SrcBytes</th>\n",
       "      <th>Label</th>\n",
       "    </tr>\n",
       "  </thead>\n",
       "  <tbody>\n",
       "    <tr>\n",
       "      <th>0</th>\n",
       "      <td>2011/08/10 09:46:53.047277</td>\n",
       "      <td>3550.182373</td>\n",
       "      <td>udp</td>\n",
       "      <td>212.50.71.179</td>\n",
       "      <td>39678</td>\n",
       "      <td>&lt;-&gt;</td>\n",
       "      <td>147.32.84.229</td>\n",
       "      <td>13363</td>\n",
       "      <td>CON</td>\n",
       "      <td>0.0</td>\n",
       "      <td>0.0</td>\n",
       "      <td>12</td>\n",
       "      <td>875</td>\n",
       "      <td>413</td>\n",
       "      <td>flow=Background-UDP-Established</td>\n",
       "    </tr>\n",
       "    <tr>\n",
       "      <th>1</th>\n",
       "      <td>2011/08/10 09:46:53.048843</td>\n",
       "      <td>0.000883</td>\n",
       "      <td>udp</td>\n",
       "      <td>84.13.246.132</td>\n",
       "      <td>28431</td>\n",
       "      <td>&lt;-&gt;</td>\n",
       "      <td>147.32.84.229</td>\n",
       "      <td>13363</td>\n",
       "      <td>CON</td>\n",
       "      <td>0.0</td>\n",
       "      <td>0.0</td>\n",
       "      <td>2</td>\n",
       "      <td>135</td>\n",
       "      <td>75</td>\n",
       "      <td>flow=Background-UDP-Established</td>\n",
       "    </tr>\n",
       "  </tbody>\n",
       "</table>\n",
       "</div>"
      ],
      "text/plain": [
       "                    StartTime          Dur Proto        SrcAddr  Sport    Dir  \\\n",
       "0  2011/08/10 09:46:53.047277  3550.182373   udp  212.50.71.179  39678    <->   \n",
       "1  2011/08/10 09:46:53.048843     0.000883   udp  84.13.246.132  28431    <->   \n",
       "\n",
       "         DstAddr  Dport State  sTos  dTos  TotPkts  TotBytes  SrcBytes  \\\n",
       "0  147.32.84.229  13363   CON   0.0   0.0       12       875       413   \n",
       "1  147.32.84.229  13363   CON   0.0   0.0        2       135        75   \n",
       "\n",
       "                             Label  \n",
       "0  flow=Background-UDP-Established  \n",
       "1  flow=Background-UDP-Established  "
      ]
     },
     "execution_count": 6,
     "metadata": {},
     "output_type": "execute_result"
    }
   ],
   "source": [
    "dataPD[0:2]"
   ]
  },
  {
   "cell_type": "code",
   "execution_count": 10,
   "metadata": {},
   "outputs": [
    {
     "data": {
      "text/html": [
       "<div>\n",
       "<style scoped>\n",
       "    .dataframe tbody tr th:only-of-type {\n",
       "        vertical-align: middle;\n",
       "    }\n",
       "\n",
       "    .dataframe tbody tr th {\n",
       "        vertical-align: top;\n",
       "    }\n",
       "\n",
       "    .dataframe thead th {\n",
       "        text-align: right;\n",
       "    }\n",
       "</style>\n",
       "<table border=\"1\" class=\"dataframe\">\n",
       "  <thead>\n",
       "    <tr style=\"text-align: right;\">\n",
       "      <th></th>\n",
       "      <th>StartTime</th>\n",
       "      <th>Proto</th>\n",
       "      <th>SrcAddr</th>\n",
       "      <th>DstAddr</th>\n",
       "      <th>Sport</th>\n",
       "      <th>Dport</th>\n",
       "      <th>TotPkts</th>\n",
       "      <th>TotBytes</th>\n",
       "    </tr>\n",
       "  </thead>\n",
       "  <tbody>\n",
       "    <tr>\n",
       "      <th>0</th>\n",
       "      <td>2011/08/10 09:46:53.047277</td>\n",
       "      <td>udp</td>\n",
       "      <td>212.50.71.179</td>\n",
       "      <td>147.32.84.229</td>\n",
       "      <td>39678</td>\n",
       "      <td>13363</td>\n",
       "      <td>12</td>\n",
       "      <td>875</td>\n",
       "    </tr>\n",
       "    <tr>\n",
       "      <th>1</th>\n",
       "      <td>2011/08/10 09:46:53.048843</td>\n",
       "      <td>udp</td>\n",
       "      <td>84.13.246.132</td>\n",
       "      <td>147.32.84.229</td>\n",
       "      <td>28431</td>\n",
       "      <td>13363</td>\n",
       "      <td>2</td>\n",
       "      <td>135</td>\n",
       "    </tr>\n",
       "  </tbody>\n",
       "</table>\n",
       "</div>"
      ],
      "text/plain": [
       "                    StartTime Proto        SrcAddr        DstAddr  Sport  \\\n",
       "0  2011/08/10 09:46:53.047277   udp  212.50.71.179  147.32.84.229  39678   \n",
       "1  2011/08/10 09:46:53.048843   udp  84.13.246.132  147.32.84.229  28431   \n",
       "\n",
       "   Dport  TotPkts  TotBytes  \n",
       "0  13363       12       875  \n",
       "1  13363        2       135  "
      ]
     },
     "execution_count": 10,
     "metadata": {},
     "output_type": "execute_result"
    }
   ],
   "source": [
    "# Retrieve columns we need\n",
    "dataPD = pd.concat([dataPD['StartTime'],dataPD['Proto'],dataPD['SrcAddr'],dataPD['DstAddr'],dataPD['Sport'],dataPD['Dport'],dataPD['TotPkts'],dataPD['TotBytes']],axis=1)\n",
    "dataPD[0:2]"
   ]
  },
  {
   "cell_type": "code",
   "execution_count": null,
   "metadata": {},
   "outputs": [],
   "source": []
  }
 ],
 "metadata": {
  "kernelspec": {
   "display_name": "Python 3",
   "language": "python",
   "name": "python3"
  },
  "language_info": {
   "codemirror_mode": {
    "name": "ipython",
    "version": 3
   },
   "file_extension": ".py",
   "mimetype": "text/x-python",
   "name": "python",
   "nbconvert_exporter": "python",
   "pygments_lexer": "ipython3",
   "version": "3.6.1"
  }
 },
 "nbformat": 4,
 "nbformat_minor": 2
}
